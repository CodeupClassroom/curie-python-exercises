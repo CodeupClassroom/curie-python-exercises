{
 "cells": [
  {
   "cell_type": "code",
   "execution_count": null,
   "metadata": {},
   "outputs": [],
   "source": [
    "# Python's two basic loops\n",
    "# While loop\n",
    "# For loop (what's loop for?)\n",
    "# For loop w/ enumerate"
   ]
  },
  {
   "cell_type": "code",
   "execution_count": null,
   "metadata": {},
   "outputs": [],
   "source": [
    "# while some_condition:\n",
    "    # indended code runs until that condition is false"
   ]
  },
  {
   "cell_type": "code",
   "execution_count": 38,
   "metadata": {},
   "outputs": [],
   "source": [
    "# while True:\n",
    "#     print(\"Happy Happy, Joy Joy\")"
   ]
  },
  {
   "cell_type": "code",
   "execution_count": 35,
   "metadata": {},
   "outputs": [
    {
     "name": "stdout",
     "output_type": "stream",
     "text": [
      "0\n",
      "1\n",
      "2\n",
      "3\n",
      "4\n",
      "5\n",
      "6\n",
      "7\n",
      "8\n",
      "9\n",
      "10\n"
     ]
    }
   ],
   "source": [
    "number = 0\n",
    "while number <= 10:\n",
    "    print(number)\n",
    "    number += 1 # new value for the variable is what it used to be plus one\n",
    "    # number = number + 1"
   ]
  },
  {
   "cell_type": "code",
   "execution_count": 42,
   "metadata": {},
   "outputs": [
    {
     "name": "stdout",
     "output_type": "stream",
     "text": [
      "Stuff\n"
     ]
    }
   ],
   "source": [
    "while len(\"kiwi\") > 5:\n",
    "    print(\"Will this ever run?\")\n",
    "print(\"Stuff\")"
   ]
  },
  {
   "cell_type": "code",
   "execution_count": 41,
   "metadata": {},
   "outputs": [
    {
     "name": "stdout",
     "output_type": "stream",
     "text": [
      "\n",
      "a\n",
      "aa\n",
      "aaa\n",
      "aaaa\n",
      "aaaaa\n",
      "aaaaaa\n",
      "aaaaaaa\n",
      "aaaaaaaa\n",
      "aaaaaaaaa\n",
      "Stuff\n"
     ]
    }
   ],
   "source": [
    "string = \"\"\n",
    "while len(string) < 10:\n",
    "    print(string)\n",
    "    string += \"a\"\n",
    "print(\"Stuff\")"
   ]
  },
  {
   "cell_type": "code",
   "execution_count": 45,
   "metadata": {},
   "outputs": [
    {
     "name": "stdout",
     "output_type": "stream",
     "text": [
      "25\n"
     ]
    }
   ],
   "source": [
    "number = 5\n",
    "while number < 25:\n",
    "    number += 1\n",
    "print(number)"
   ]
  },
  {
   "cell_type": "code",
   "execution_count": 49,
   "metadata": {},
   "outputs": [
    {
     "name": "stdout",
     "output_type": "stream",
     "text": [
      "appetizer\n",
      "salad\n",
      "entre\n",
      "dessert\n",
      "coffee\n",
      "That was a great meal\n"
     ]
    }
   ],
   "source": [
    "dishes = [\"appetizer\", \"salad\", \"entre\", \"dessert\", \"coffee\"]\n",
    "i = 0\n",
    "while i < len(dishes):\n",
    "    print(dishes[i])\n",
    "    i += 1\n",
    "    \n",
    "print(\"That was a great meal\")"
   ]
  },
  {
   "cell_type": "code",
   "execution_count": 50,
   "metadata": {},
   "outputs": [
    {
     "name": "stdout",
     "output_type": "stream",
     "text": [
      "appetizer\n",
      "salad\n",
      "entre\n",
      "dessert\n",
      "coffee\n"
     ]
    }
   ],
   "source": [
    "for dish in dishes:\n",
    "    print(dish)"
   ]
  },
  {
   "cell_type": "code",
   "execution_count": 51,
   "metadata": {},
   "outputs": [
    {
     "data": {
      "text/plain": [
       "True"
      ]
     },
     "execution_count": 51,
     "metadata": {},
     "output_type": "execute_result"
    }
   ],
   "source": [
    "dishes[0] in dishes"
   ]
  },
  {
   "cell_type": "code",
   "execution_count": 52,
   "metadata": {},
   "outputs": [
    {
     "data": {
      "text/plain": [
       "True"
      ]
     },
     "execution_count": 52,
     "metadata": {},
     "output_type": "execute_result"
    }
   ],
   "source": [
    "dishes[1] in dishes"
   ]
  },
  {
   "cell_type": "code",
   "execution_count": 53,
   "metadata": {},
   "outputs": [
    {
     "data": {
      "text/plain": [
       "True"
      ]
     },
     "execution_count": 53,
     "metadata": {},
     "output_type": "execute_result"
    }
   ],
   "source": [
    "\"a\" in \"apple\""
   ]
  },
  {
   "cell_type": "code",
   "execution_count": 54,
   "metadata": {},
   "outputs": [
    {
     "data": {
      "text/plain": [
       "['appetizer', 'salad', 'entre', 'dessert', 'coffee']"
      ]
     },
     "execution_count": 54,
     "metadata": {},
     "output_type": "execute_result"
    }
   ],
   "source": [
    "dishes"
   ]
  },
  {
   "cell_type": "code",
   "execution_count": 58,
   "metadata": {},
   "outputs": [
    {
     "data": {
      "text/plain": [
       "['Appetizer', 'Salad', 'Entre', 'Dessert', 'Coffee']"
      ]
     },
     "execution_count": 58,
     "metadata": {},
     "output_type": "execute_result"
    }
   ],
   "source": [
    "x = [dish.capitalize() for dish in dishes]\n",
    "x"
   ]
  },
  {
   "cell_type": "code",
   "execution_count": 57,
   "metadata": {},
   "outputs": [
    {
     "data": {
      "text/plain": [
       "['Appetizer', 'Salad', 'Entre', 'Dessert', 'Coffee']"
      ]
     },
     "execution_count": 57,
     "metadata": {},
     "output_type": "execute_result"
    }
   ],
   "source": [
    "output = []\n",
    "for dish in dishes:\n",
    "    output.append(dish.capitalize())\n",
    "output"
   ]
  },
  {
   "cell_type": "code",
   "execution_count": 62,
   "metadata": {},
   "outputs": [
    {
     "name": "stdout",
     "output_type": "stream",
     "text": [
      "appetizer\n",
      "salad\n",
      "entre\n",
      "dessert\n",
      "coffee\n"
     ]
    }
   ],
   "source": [
    "for i, dish in enumerate(dishes):\n",
    "    print(dish)"
   ]
  },
  {
   "cell_type": "code",
   "execution_count": null,
   "metadata": {},
   "outputs": [],
   "source": []
  }
 ],
 "metadata": {
  "kernelspec": {
   "display_name": "Python 3",
   "language": "python",
   "name": "python3"
  },
  "language_info": {
   "codemirror_mode": {
    "name": "ipython",
    "version": 3
   },
   "file_extension": ".py",
   "mimetype": "text/x-python",
   "name": "python",
   "nbconvert_exporter": "python",
   "pygments_lexer": "ipython3",
   "version": "3.7.3"
  }
 },
 "nbformat": 4,
 "nbformat_minor": 4
}
