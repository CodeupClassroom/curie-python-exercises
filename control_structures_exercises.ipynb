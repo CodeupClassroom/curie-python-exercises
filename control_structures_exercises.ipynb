{
 "cells": [
  {
   "cell_type": "code",
   "execution_count": 2,
   "metadata": {},
   "outputs": [
    {
     "name": "stdout",
     "output_type": "stream",
     "text": [
      "What day of the week is it? Ice cream\n",
      "Today ain't Monday. It is Ice cream\n"
     ]
    }
   ],
   "source": [
    "# Basic solution for Exercise 1\n",
    "# Prompt the user for a day of the week, print out whether the day is Monday or not\n",
    "\n",
    "day = input(\"What day of the week is it? \")\n",
    "if day == \"monday\" or day == \"Monday\":\n",
    "    print(\"Today is Monday!\")\n",
    "else:\n",
    "    print(f\"Today ain't Monday. It is {day.capitalize()}\")"
   ]
  },
  {
   "cell_type": "code",
   "execution_count": 3,
   "metadata": {},
   "outputs": [
    {
     "name": "stdout",
     "output_type": "stream",
     "text": [
      "What day of the week is it? 23\n",
      "Please type in the full day of the week.\n",
      "What day of the week is it today?Mon\n",
      "Please type in the full day of the week.\n",
      "What day of the week is it today?MONDAY\n",
      "Today is Monday!\n"
     ]
    }
   ],
   "source": [
    "# Less basic solution for Exercise 1\n",
    "# Prompt the user for a day of the week, print out whether the day is Monday or not\n",
    "day = input(\"What day of the week is it? \")\n",
    "\n",
    "day = day.lower() # lowercase the user input\n",
    "\n",
    "# Continue prompting the user for the day of the week if their input ain't a day.\n",
    "while day not in [\"monday\", \"tuesday\", \"wednesday\", \"thursday\", \"friday\", \"saturday\", \"sunday\"]:\n",
    "    print(\"Please type in the full day of the week.\")\n",
    "    day = input(\"What day of the week is it today?\")\n",
    "    day = day.lower()\n",
    "\n",
    "if day.lower() == \"monday\":\n",
    "    print(\"Today is Monday!\")\n",
    "else:\n",
    "    print(f\"Today ain't Monday. It is {day.capitalize()}\")"
   ]
  },
  {
   "cell_type": "code",
   "execution_count": 4,
   "metadata": {},
   "outputs": [
    {
     "name": "stdout",
     "output_type": "stream",
     "text": [
      "What is the day of the week? Monday\n",
      "Monday is a weekday day!\n"
     ]
    }
   ],
   "source": [
    "# prompt the user for a day of the week, print out whether the day is a weekday or a weekend\n",
    "day = input(\"What is the day of the week? \")\n",
    "day = day.lower()\n",
    "\n",
    "while day not in [\"monday\", \"muesday\", \"wednesday\", \"thursday\", \"friday\", \"saturday\", \"sunday\"]:\n",
    "    print(\"Please type in the full day of the week.\")\n",
    "    day = input(\"What day of the week is it today? \")\n",
    "    day = day.lower()\n",
    "\n",
    "# In operator checks for presence of the value on the left of \"in\" within the sequence on the right\n",
    "if day in [\"saturday\", \"sunday\"]:\n",
    "    print(f\"{day.capitalize()} is part of the weekend!\")\n",
    "else:\n",
    "    print(f\"{day.capitalize()} is a weekday day!\")\n",
    "    \n",
    "# OR we could use an OR operator\n",
    "if day == \"saturday\" or day == \"sunday\"\n",
    "    print(f\"{day.capitalize()} is part of the weekend!\")\n",
    "else:\n",
    "    print(f\"{day.capitalize()} is a weekday day!\")"
   ]
  },
  {
   "cell_type": "code",
   "execution_count": 7,
   "metadata": {},
   "outputs": [
    {
     "name": "stdout",
     "output_type": "stream",
     "text": [
      "Total pay is $2825.0 after working 51 for an hourly rate of $50. We worked 11 extra\n"
     ]
    }
   ],
   "source": [
    "# the number of hours worked in one week\n",
    "# the hourly rate\n",
    "# how much the week's paycheck will be\n",
    "# write the python code that calculates the weekly paycheck. \n",
    "# You get paid time and a half if you work more than 40 hours\n",
    "hours_worked = 51\n",
    "hourly_rate = 50\n",
    "total = 0\n",
    "if hours_worked <= 40:\n",
    "    total = hourly_rate * hours_worked\n",
    "else:\n",
    "    # get the number of hours overtime\n",
    "    # calculate overtime and add to 40 * regular rate\n",
    "    overtime_hours = hours_worked - 40\n",
    "    overtime_pay = overtime_hours * 1.5 * hourly_rate\n",
    "    regular_pay = 40 * hourly_rate\n",
    "    total = regular_pay + overtime_pay\n",
    "\n",
    "print(f\"Total pay is ${total} after working {hours_worked} for an hourly rate of ${hourly_rate}. We worked {overtime_hours} extra\")"
   ]
  },
  {
   "cell_type": "code",
   "execution_count": 8,
   "metadata": {},
   "outputs": [
    {
     "name": "stdout",
     "output_type": "stream",
     "text": [
      "5\n",
      "6\n",
      "7\n",
      "8\n",
      "9\n",
      "10\n",
      "11\n",
      "12\n",
      "13\n",
      "14\n",
      "15\n"
     ]
    }
   ],
   "source": [
    "# Create an integer variable i with a value of 5.\n",
    "# Create a while loop that runs so long as i is less than or equal to 15\n",
    "# Each loop iteration, output the current value of i, then increment i by one.\n",
    "\n",
    "i = 5 # start\n",
    "end = 15 # ending number\n",
    "while i <= end:\n",
    "    print(i)\n",
    "    i += 1"
   ]
  },
  {
   "cell_type": "code",
   "execution_count": 9,
   "metadata": {},
   "outputs": [
    {
     "name": "stdout",
     "output_type": "stream",
     "text": [
      "0\n",
      "2\n",
      "4\n",
      "6\n",
      "8\n",
      "10\n",
      "12\n",
      "14\n",
      "16\n",
      "18\n",
      "20\n",
      "22\n",
      "24\n",
      "26\n",
      "28\n",
      "30\n",
      "32\n",
      "34\n",
      "36\n",
      "38\n",
      "40\n",
      "42\n",
      "44\n",
      "46\n",
      "48\n",
      "50\n",
      "52\n",
      "54\n",
      "56\n",
      "58\n",
      "60\n",
      "62\n",
      "64\n",
      "66\n",
      "68\n",
      "70\n",
      "72\n",
      "74\n",
      "76\n",
      "78\n",
      "80\n",
      "82\n",
      "84\n",
      "86\n",
      "88\n",
      "90\n",
      "92\n",
      "94\n",
      "96\n",
      "98\n",
      "100\n"
     ]
    }
   ],
   "source": [
    "# count by 2's starting with 0 and ending at 100. Follow each number with a new line.\n",
    "i = 0\n",
    "while i <= 100:\n",
    "    print(i)\n",
    "    i += 2"
   ]
  },
  {
   "cell_type": "code",
   "execution_count": 10,
   "metadata": {},
   "outputs": [
    {
     "name": "stdout",
     "output_type": "stream",
     "text": [
      "100\n",
      "95\n",
      "90\n",
      "85\n",
      "80\n",
      "75\n",
      "70\n",
      "65\n",
      "60\n",
      "55\n",
      "50\n",
      "45\n",
      "40\n",
      "35\n",
      "30\n",
      "25\n",
      "20\n",
      "15\n",
      "10\n",
      "5\n",
      "0\n",
      "-5\n",
      "-10\n"
     ]
    }
   ],
   "source": [
    "# Alter your loop to count backwards by 5's from 100 to -10.\n",
    "i = 100\n",
    "end = -10\n",
    "while i >= end:\n",
    "    print(i)\n",
    "    i -= 5"
   ]
  },
  {
   "cell_type": "code",
   "execution_count": 11,
   "metadata": {},
   "outputs": [
    {
     "name": "stdout",
     "output_type": "stream",
     "text": [
      "2\n",
      "4\n",
      "16\n",
      "256\n",
      "65536\n"
     ]
    }
   ],
   "source": [
    "# start 2\n",
    "# displays the number squared on each line while the number is less than 1,000,000. Output should equal:\n",
    "i = 2\n",
    "while i < 1_000_000:\n",
    "    print(i)\n",
    "    i *= i\n"
   ]
  },
  {
   "cell_type": "code",
   "execution_count": 12,
   "metadata": {},
   "outputs": [
    {
     "name": "stdout",
     "output_type": "stream",
     "text": [
      "100\n",
      "95\n",
      "90\n",
      "85\n",
      "80\n",
      "75\n",
      "70\n",
      "65\n",
      "60\n",
      "55\n",
      "50\n",
      "45\n",
      "40\n",
      "35\n",
      "30\n",
      "25\n",
      "20\n",
      "15\n",
      "10\n",
      "5\n"
     ]
    }
   ],
   "source": [
    "# Write a loop that uses print to create the output shown below.\n",
    "i = 100\n",
    "while i >= 5:\n",
    "    print(i)\n",
    "    i -= 5"
   ]
  },
  {
   "cell_type": "code",
   "execution_count": 20,
   "metadata": {},
   "outputs": [
    {
     "name": "stdout",
     "output_type": "stream",
     "text": [
      "Please input positive whole number? 3\n",
      "3 x 1 = 3\n",
      "3 x 2 = 6\n",
      "3 x 3 = 9\n",
      "3 x 4 = 12\n",
      "3 x 5 = 15\n",
      "3 x 6 = 18\n",
      "3 x 7 = 21\n",
      "3 x 8 = 24\n",
      "3 x 9 = 27\n",
      "3 x 10 = 30\n"
     ]
    }
   ],
   "source": [
    "# 7 x 1 = 7\n",
    "# 7 x 2 = 14\n",
    "# 7 x 3 = 21\n",
    "# 7 x 4 = 28\n",
    "# 7 x 5 = 35\n",
    "# 7 x 6 = 42\n",
    "# 7 x 7 = 49\n",
    "# 7 x 8 = 56\n",
    "# 7 x 9 = 63\n",
    "# 7 x 10 = 70\n",
    "\n",
    "number = int(input(\"Please input positive whole number? \"))\n",
    "for i in range(1, 11):\n",
    "    print(f\"{number} x {i} = {number * i}\")\n"
   ]
  },
  {
   "cell_type": "code",
   "execution_count": 25,
   "metadata": {},
   "outputs": [
    {
     "name": "stdout",
     "output_type": "stream",
     "text": [
      "\n",
      "1\n",
      "22\n",
      "333\n",
      "4444\n",
      "55555\n",
      "666666\n",
      "7777777\n",
      "88888888\n",
      "999999999\n"
     ]
    }
   ],
   "source": [
    "# 1\n",
    "# 22\n",
    "# 333\n",
    "# 4444\n",
    "# 55555\n",
    "# 666666\n",
    "# 7777777\n",
    "# 88888888\n",
    "# 999999999\n",
    "for i in range(1, 10):\n",
    "    print(i * str(i))"
   ]
  },
  {
   "cell_type": "code",
   "execution_count": null,
   "metadata": {},
   "outputs": [],
   "source": []
  },
  {
   "cell_type": "code",
   "execution_count": null,
   "metadata": {},
   "outputs": [],
   "source": []
  },
  {
   "cell_type": "code",
   "execution_count": 34,
   "metadata": {},
   "outputs": [
    {
     "name": "stdout",
     "output_type": "stream",
     "text": [
      "Input an odd integer between 1 and 50? 3\n",
      "3 is an odd number between 1 and 50. Thank you.\n",
      "The number to skip is 3\n",
      "1 is an odd number.\n",
      "Skipping 3\n",
      "5 is an odd number.\n",
      "7 is an odd number.\n",
      "9 is an odd number.\n",
      "11 is an odd number.\n",
      "13 is an odd number.\n",
      "15 is an odd number.\n",
      "17 is an odd number.\n",
      "19 is an odd number.\n",
      "21 is an odd number.\n",
      "23 is an odd number.\n",
      "25 is an odd number.\n",
      "27 is an odd number.\n",
      "29 is an odd number.\n",
      "31 is an odd number.\n",
      "33 is an odd number.\n",
      "35 is an odd number.\n",
      "37 is an odd number.\n",
      "39 is an odd number.\n",
      "41 is an odd number.\n",
      "43 is an odd number.\n",
      "45 is an odd number.\n",
      "47 is an odd number.\n",
      "49 is an odd number.\n"
     ]
    }
   ],
   "source": [
    "# Prompt the user for an odd number between 1 and 50. Use a loop and a break statement to continue prompting the user if they enter invalid input. (Hint: use the isdigit method on strings to determine this). Use a loop and the continue statement to output all the odd numbers between 1 and 50, except for the number the user entered.\n",
    "user_choice = input(\"Input an odd integer between 1 and 50? \")\n",
    "while (user_choice.isdigit() == False  # keep prompting user if input is not a whole number\n",
    "            or int(user_choice) < 1    # keep prompting if they input less than 1.\n",
    "            or int(user_choice) > 50   # keep prompting if they input higher than 50 \n",
    "            or int(user_choice) % 2 == 0): # keep prompting if they provided an even number.\n",
    "    print(f\"{user_choice} is nice, but we'll need an odd number between 1 and 50.\")\n",
    "    user_choice = input(\"Please input an odd number between 1 and 50. \")\n",
    "\n",
    "user_choice = int(user_choice)\n",
    "\n",
    "print(f\"{user_choice} is an odd number between 1 and 50. Thank you.\")\n",
    "\n",
    "print(\"The number to skip is\", user_choice)\n",
    "\n",
    "# one by one or iterating a sequence\n",
    "for i in range(1, 50):\n",
    "    if i % 2 == 0:\n",
    "        continue \n",
    "\n",
    "    if i == user_choice:\n",
    "        print(f\"Skipping {i}\")\n",
    "        continue\n",
    "    \n",
    "    print(f\"{i} is an odd number.\")\n",
    "        \n",
    "        "
   ]
  },
  {
   "cell_type": "code",
   "execution_count": 45,
   "metadata": {},
   "outputs": [
    {
     "name": "stdout",
     "output_type": "stream",
     "text": [
      "Input a positive number 5\n"
     ]
    }
   ],
   "source": [
    "# Prompt the user to enter a positive number and write a loop that counts from 0 to that number. (\n",
    "user_choice = input(\"Input a positive number \")\n",
    "while (user_choice.isdigit() == False  \n",
    "            or int(user_choice) <= 0):   \n",
    "    print(f\"{user_choice} is nice, but we'll need a positive number.\")\n",
    "    user_choice = input(\"Please input a positive number\")\n",
    "\n",
    "user_choice = int(user_choice)"
   ]
  },
  {
   "cell_type": "code",
   "execution_count": 46,
   "metadata": {},
   "outputs": [
    {
     "name": "stdout",
     "output_type": "stream",
     "text": [
      "0\n",
      "1\n",
      "2\n",
      "3\n",
      "4\n",
      "5\n"
     ]
    }
   ],
   "source": [
    "for i in range(user_choice + 1):\n",
    "    print(i)"
   ]
  },
  {
   "cell_type": "code",
   "execution_count": 47,
   "metadata": {},
   "outputs": [
    {
     "name": "stdout",
     "output_type": "stream",
     "text": [
      "5\n",
      "4\n",
      "3\n",
      "2\n",
      "1\n"
     ]
    }
   ],
   "source": [
    "\n",
    "while user_choice >= 1:\n",
    "    print(user_choice)\n",
    "    user_choice -= 1\n",
    "    "
   ]
  },
  {
   "cell_type": "code",
   "execution_count": 48,
   "metadata": {},
   "outputs": [
    {
     "data": {
      "text/plain": [
       "0"
      ]
     },
     "execution_count": 48,
     "metadata": {},
     "output_type": "execute_result"
    }
   ],
   "source": [
    "user_choice"
   ]
  },
  {
   "cell_type": "code",
   "execution_count": 51,
   "metadata": {},
   "outputs": [
    {
     "name": "stdout",
     "output_type": "stream",
     "text": [
      "1\n",
      "2\n",
      "Fizz\n",
      "4\n",
      "Buzz\n",
      "Fizz\n",
      "7\n",
      "8\n",
      "Fizz\n",
      "Buzz\n",
      "11\n",
      "Fizz\n",
      "13\n",
      "14\n",
      "FizzBuzz\n",
      "16\n",
      "17\n",
      "Fizz\n",
      "19\n",
      "Buzz\n",
      "Fizz\n",
      "22\n",
      "23\n",
      "Fizz\n",
      "Buzz\n",
      "26\n",
      "Fizz\n",
      "28\n",
      "29\n",
      "FizzBuzz\n",
      "31\n",
      "32\n",
      "Fizz\n",
      "34\n",
      "Buzz\n",
      "Fizz\n",
      "37\n",
      "38\n",
      "Fizz\n",
      "Buzz\n",
      "41\n",
      "Fizz\n",
      "43\n",
      "44\n",
      "FizzBuzz\n",
      "46\n",
      "47\n",
      "Fizz\n",
      "49\n",
      "Buzz\n",
      "Fizz\n",
      "52\n",
      "53\n",
      "Fizz\n",
      "Buzz\n",
      "56\n",
      "Fizz\n",
      "58\n",
      "59\n",
      "FizzBuzz\n",
      "61\n",
      "62\n",
      "Fizz\n",
      "64\n",
      "Buzz\n",
      "Fizz\n",
      "67\n",
      "68\n",
      "Fizz\n",
      "Buzz\n",
      "71\n",
      "Fizz\n",
      "73\n",
      "74\n",
      "FizzBuzz\n",
      "76\n",
      "77\n",
      "Fizz\n",
      "79\n",
      "Buzz\n",
      "Fizz\n",
      "82\n",
      "83\n",
      "Fizz\n",
      "Buzz\n",
      "86\n",
      "Fizz\n",
      "88\n",
      "89\n",
      "FizzBuzz\n",
      "91\n",
      "92\n",
      "Fizz\n",
      "94\n",
      "Buzz\n",
      "Fizz\n",
      "97\n",
      "98\n",
      "Fizz\n",
      "Buzz\n"
     ]
    }
   ],
   "source": [
    "# Write a program that prints the numbers from 1 to 100.\n",
    "# For multiples of three print \"Fizz\" instead of the number\n",
    "# For the multiples of five print \"Buzz\".\n",
    "# For numbers which are multiples of both three and five print \"FizzBuzz\".\n",
    "for i in range(1, 101):\n",
    "    if i % 5 == 0 and i % 3 == 0: # explicit is better than implicit\n",
    "        print(\"FizzBuzz\")\n",
    "    elif i % 3 == 0:\n",
    "        print(\"Fizz\")\n",
    "    elif i % 5 == 0:\n",
    "        print(\"Buzz\")\n",
    "    else:\n",
    "        print(i)"
   ]
  },
  {
   "cell_type": "code",
   "execution_count": null,
   "metadata": {},
   "outputs": [],
   "source": [
    "# Display a table of powers.\n",
    "\n",
    "# Prompt the user to enter an integer.\n",
    "# Display a table of squares and cubes from 1 to the value entered.\n",
    "# Ask if the user wants to continue.\n",
    "# Assume that the user will enter valid data.\n",
    "# Only continue if the user agrees to.\n",
    "# Example Output\n",
    "\n",
    "# What number would you like to go up to? 5\n",
    "\n",
    "# Here is your table!\n",
    "\n",
    "# number | squared | cubed\n",
    "# ------ | ------- | -----\n",
    "# 1      | 1       | 1\n",
    "# 2      | 4       | 8\n",
    "# 3      | 9       | 27\n",
    "# 4      | 16      | 64\n",
    "# 5      | 25      | 125"
   ]
  },
  {
   "cell_type": "code",
   "execution_count": 55,
   "metadata": {},
   "outputs": [
    {
     "name": "stdout",
     "output_type": "stream",
     "text": [
      "Input a positive number 7\n"
     ]
    }
   ],
   "source": [
    "user_choice = input(\"Input a positive number \")\n",
    "while (user_choice.isdigit() == False  \n",
    "            or int(user_choice) <= 1):   \n",
    "    print(f\"{user_choice} is nice, but we'll need a positive number.\")\n",
    "    user_choice = input(\"Please input a positive number\")\n",
    "\n",
    "user_choice = int(user_choice)"
   ]
  },
  {
   "cell_type": "code",
   "execution_count": 62,
   "metadata": {},
   "outputs": [
    {
     "name": "stdout",
     "output_type": "stream",
     "text": [
      "Input a positive number 5\n",
      " number | squared | cubed \n",
      "1    |   1    |   1 \n",
      "2    |   4    |   8 \n",
      "3    |   9    |   27 \n",
      "4    |   16    |   64 \n",
      "5    |   25    |   125 \n",
      "Do you want to continue? Type Y or Yesy\n",
      "Input a positive number 7\n",
      " number | squared | cubed \n",
      "1    |   1    |   1 \n",
      "2    |   4    |   8 \n",
      "3    |   9    |   27 \n",
      "4    |   16    |   64 \n",
      "5    |   25    |   125 \n",
      "6    |   36    |   216 \n",
      "7    |   49    |   343 \n",
      "Do you want to continue? Type Y or Yesno\n"
     ]
    }
   ],
   "source": [
    "def get_positive_number():\n",
    "    user_choice = input(\"Input a positive number \")\n",
    "    while (user_choice.isdigit() == False  \n",
    "            or int(user_choice) <= 1):   \n",
    "        print(f\"{user_choice} is nice, but we'll need a positive number.\")\n",
    "        user_choice = input(\"Please input a positive number\")\n",
    "\n",
    "    user_choice = int(user_choice)\n",
    "    return user_choice\n",
    "\n",
    "\n",
    "choice = \"yes\"\n",
    "while choice in [\"y\", \"yes\"]:\n",
    "    user_choice = get_positive_number()\n",
    "    print(\" number | squared | cubed \")\n",
    "    for i in range(1, user_choice + 1):\n",
    "        print(f\"{i}    |   {i**2}    |   {i**3} \")\n",
    "    \n",
    "    \n",
    "    choice = input(\"Do you want to continue? Type Y or Yes\")\n",
    "    choice = choice.lower()\n",
    "\n",
    "print(\"Thank you!\")"
   ]
  },
  {
   "cell_type": "code",
   "execution_count": 66,
   "metadata": {},
   "outputs": [
    {
     "name": "stdout",
     "output_type": "stream",
     "text": [
      "Welcome to the grading application!\n",
      "Input a positive number no\n",
      "no is nice, but we'll need a positive number.\n",
      "Please input a positive number85\n",
      "85 is an B\n",
      "Do you want to continue? Type y or Yes. y\n",
      "Welcome to the grading application!\n",
      "Input a positive number 99\n",
      "99 is an A\n",
      "Do you want to continue? Type y or Yes. -3333\n"
     ]
    }
   ],
   "source": [
    "# Convert given number grades into letter grades.\n",
    "\n",
    "# Prompt the user for a numerical grade from 0 to 100.\n",
    "# Display the corresponding letter grade.\n",
    "# Prompt the user to continue.\n",
    "# Assume that the user will enter valid integers for the grades.\n",
    "# The application should only continue if the user agrees to.\n",
    "# Grade Ranges:\n",
    "\n",
    "# A : 100 - 88\n",
    "# B : 87 - 80\n",
    "# C : 79 - 67\n",
    "# D : 66 - 60\n",
    "# F : 59 - 0\n",
    "\n",
    "while True:\n",
    "    print(\"Welcome to the grading application!\")\n",
    "    user_choice = input(\"Input a positive number \")\n",
    "    while (user_choice.isdigit() == False or int(user_choice) < 0 or int(user_choice) >= 100):   \n",
    "        print(f\"{user_choice} is nice, but we'll need a positive number.\")\n",
    "        user_choice = input(\"Please input a positive number\")\n",
    "\n",
    "    user_choice = int(user_choice)\n",
    "    if user_choice >= 88:\n",
    "        print(f\"{user_choice} is an A\")\n",
    "    elif user_choice >= 80:\n",
    "        print(f\"{user_choice} is an B\")\n",
    "    elif user_choice >= 67:\n",
    "        print(f\"{user_choice} is an C\")\n",
    "    elif user_choice >= 60:\n",
    "        print(f\"{user_choice} is an D\")\n",
    "    else:\n",
    "        print(f\"{user_choice} is an F\")\n",
    "        \n",
    "    user_choice = input(\"Do you want to continue? Type y or Yes. \")\n",
    "    wants_to_stop = user_choice.lower() not in [\"y\", \"yes\"]\n",
    "    if wants_to_stop:\n",
    "        break\n"
   ]
  },
  {
   "cell_type": "code",
   "execution_count": 69,
   "metadata": {},
   "outputs": [
    {
     "name": "stdout",
     "output_type": "stream",
     "text": [
      "'Visual Display of Quantitative Information' by Edward Tufte is about visualization\n",
      "'Deep Learning with Python' by Fracois Challot is about deep learning\n",
      "'How Charts Lie' by Cario is about visualization\n"
     ]
    }
   ],
   "source": [
    "# Create a list of dictionaries \n",
    "# where each dictionary represents a book that you have read. \n",
    "# Each dictionary in the list should have the keys title, author, and genre. \n",
    "# Loop through the list and print out information about each book.\n",
    "books = [\n",
    "    {\n",
    "        \"title\": \"Visual Display of Quantitative Information\",\n",
    "        \"author\": \"Edward Tufte\",\n",
    "        \"genre\": \"visualization\"\n",
    "    },\n",
    "    {\n",
    "        \"title\": \"Deep Learning with Python\",\n",
    "        \"author\": \"Fracois Challot\",\n",
    "        \"genre\": \"deep learning\"\n",
    "    },\n",
    "    {\n",
    "        \"title\": \"How Charts Lie\",\n",
    "        \"author\": \"Cario\",\n",
    "        \"genre\": \"visualization\"\n",
    "    },\n",
    "]\n",
    "\n",
    "for book in books:\n",
    "    print(f\"'{book['title']}' by {book['author']} is about {book['genre']}\")"
   ]
  },
  {
   "cell_type": "code",
   "execution_count": 73,
   "metadata": {},
   "outputs": [
    {
     "name": "stdout",
     "output_type": "stream",
     "text": [
      "Here is a list of genres in your available books:\n",
      "deep learning\n",
      "visualization\n"
     ]
    }
   ],
   "source": [
    "# Prompt the user to enter a genre, then loop through your books list and print out the titles of all the books in that genre.f\n",
    "genres = [book[\"genre\"] for book in books]\n",
    "genres = set(genres)\n",
    "print(\"Here is a list of genres in your available books:\")\n",
    "for genre in genres:\n",
    "    print(genre)"
   ]
  },
  {
   "cell_type": "code",
   "execution_count": 74,
   "metadata": {},
   "outputs": [
    {
     "name": "stdout",
     "output_type": "stream",
     "text": [
      "Please enter a genrestatistics\n"
     ]
    }
   ],
   "source": [
    "genre = input(\"Please enter a genre\")\n",
    "for book in books:\n",
    "    if book[\"genre\"] == genre:\n",
    "        print(book[\"title\"])"
   ]
  },
  {
   "cell_type": "code",
   "execution_count": null,
   "metadata": {},
   "outputs": [],
   "source": []
  }
 ],
 "metadata": {
  "kernelspec": {
   "display_name": "Python 3",
   "language": "python",
   "name": "python3"
  },
  "language_info": {
   "codemirror_mode": {
    "name": "ipython",
    "version": 3
   },
   "file_extension": ".py",
   "mimetype": "text/x-python",
   "name": "python",
   "nbconvert_exporter": "python",
   "pygments_lexer": "ipython3",
   "version": "3.7.3"
  }
 },
 "nbformat": 4,
 "nbformat_minor": 4
}
