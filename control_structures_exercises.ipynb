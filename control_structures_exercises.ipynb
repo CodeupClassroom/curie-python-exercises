{
 "cells": [
  {
   "cell_type": "code",
   "execution_count": 5,
   "metadata": {},
   "outputs": [
    {
     "name": "stdout",
     "output_type": "stream",
     "text": [
      "What day of the week is it? Banana\n",
      "Today ain't Monday. It is Banana\n"
     ]
    }
   ],
   "source": [
    "# Basic solution for Exercise 1\n",
    "# Prompt the user for a day of the week, print out whether the day is Monday or not\n",
    "\n",
    "day = input(\"What day of the week is it? \")\n",
    "if day == \"monday\" or day == \"Monday\":\n",
    "    print(\"Today is Monday!\")\n",
    "else:\n",
    "    print(f\"Today ain't Monday. It is {day.capitalize()}\")"
   ]
  },
  {
   "cell_type": "code",
   "execution_count": null,
   "metadata": {},
   "outputs": [],
   "source": [
    "# Less basic solution for Exercise 1\n",
    "# Prompt the user for a day of the week, print out whether the day is Monday or not\n",
    "day = input(\"What day of the week is it? \")\n",
    "\n",
    "day = day.lower() # lowercase the user input\n",
    "\n",
    "# Continue prompting the user for the day of the week if their input ain't a day.\n",
    "while day not in [\"monday\", \"muesday\", \"wednesday\", \"thursday\", \"friday\", \"saturday\", \"sunday\"]:\n",
    "    print(\"Please type in the full day of the week.\")\n",
    "    day = input(\"What day of the week is it today?\")\n",
    "    day = day.lower()\n",
    "\n",
    "if day.lower() == \"monday\":\n",
    "    print(\"Today is Monday!\")\n",
    "else:\n",
    "    print(f\"Today ain't Monday. It is {day.capitalize()}\")"
   ]
  },
  {
   "cell_type": "code",
   "execution_count": 6,
   "metadata": {},
   "outputs": [
    {
     "name": "stdout",
     "output_type": "stream",
     "text": [
      "What is the day of the week? Thursday\n",
      "Thursday is a weekday day!\n"
     ]
    }
   ],
   "source": [
    "# prompt the user for a day of the week, print out whether the day is a weekday or a weekend\n",
    "day = input(\"What is the day of the week? \")\n",
    "day = day.lower()\n",
    "\n",
    "while day not in [\"monday\", \"muesday\", \"wednesday\", \"thursday\", \"friday\", \"saturday\", \"sunday\"]:\n",
    "    print(\"Please type in the full day of the week.\")\n",
    "    day = input(\"What day of the week is it today? \")\n",
    "    day = day.lower()\n",
    "\n",
    "if day in [\"saturday\", \"sunday\"]:\n",
    "    print(f\"{day.capitalize()} is part of the weekend!\")\n",
    "else:\n",
    "    print(f\"{day.capitalize()} is a weekday day!\")"
   ]
  },
  {
   "cell_type": "code",
   "execution_count": null,
   "metadata": {},
   "outputs": [],
   "source": []
  },
  {
   "cell_type": "code",
   "execution_count": 19,
   "metadata": {},
   "outputs": [
    {
     "name": "stdout",
     "output_type": "stream",
     "text": [
      "Input an odd integer between 1 and 50? 2.2\n",
      "2.2 is nice, but we'll need an odd number between 1 and 50.\n",
      "Please input an odd number between 1 and 50. -343\n",
      "-343 is nice, but we'll need an odd number between 1 and 50.\n",
      "Please input an odd number between 1 and 50. 2.2\n",
      "2.2 is nice, but we'll need an odd number between 1 and 50.\n",
      "Please input an odd number between 1 and 50. 41\n",
      "41 is an odd number between 1 and 50. Thank you.\n"
     ]
    }
   ],
   "source": [
    "user_choice = input(\"Input an odd integer between 1 and 50? \")\n",
    "while (user_choice.isdigit() == False  # keep prompting user if input is not a whole number\n",
    "            or int(user_choice) < 1    # keep prompting if they input less than 1.\n",
    "            or int(user_choice) > 50   # keep prompting if they input higher than 50 \n",
    "            or int(user_choice) % 2 == 0): # keep prompting if they provided an even number.\n",
    "    print(f\"{user_choice} is nice, but we'll need an odd number between 1 and 50.\")\n",
    "    user_choice = input(\"Please input an odd number between 1 and 50. \")\n",
    "\n",
    "print(f\"{user_choice} is an odd number between 1 and 50. Thank you.\")"
   ]
  },
  {
   "cell_type": "code",
   "execution_count": 16,
   "metadata": {},
   "outputs": [
    {
     "data": {
      "text/plain": [
       "True"
      ]
     },
     "execution_count": 16,
     "metadata": {},
     "output_type": "execute_result"
    }
   ],
   "source": [
    "    "
   ]
  },
  {
   "cell_type": "code",
   "execution_count": null,
   "metadata": {},
   "outputs": [],
   "source": []
  }
 ],
 "metadata": {
  "kernelspec": {
   "display_name": "Python 3",
   "language": "python",
   "name": "python3"
  },
  "language_info": {
   "codemirror_mode": {
    "name": "ipython",
    "version": 3
   },
   "file_extension": ".py",
   "mimetype": "text/x-python",
   "name": "python",
   "nbconvert_exporter": "python",
   "pygments_lexer": "ipython3",
   "version": "3.7.3"
  }
 },
 "nbformat": 4,
 "nbformat_minor": 4
}
