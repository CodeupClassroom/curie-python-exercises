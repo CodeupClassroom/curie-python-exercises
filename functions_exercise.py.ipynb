{
 "cells": [
  {
   "cell_type": "markdown",
   "metadata": {},
   "source": [
    "Define a function named `is_two`. It should accept one input and return `True` if the passed input is either the number or the string `2`, `False` otherwise."
   ]
  },
  {
   "cell_type": "code",
   "execution_count": 12,
   "metadata": {},
   "outputs": [],
   "source": [
    "def is_two(x):\n",
    "    return x == '2' or x == 2"
   ]
  },
  {
   "cell_type": "code",
   "execution_count": 14,
   "metadata": {},
   "outputs": [],
   "source": [
    "assert is_two(2) == True\n",
    "assert is_two('2') == True\n",
    "assert is_two('two') == False\n",
    "assert is_two(3) == False"
   ]
  },
  {
   "cell_type": "markdown",
   "metadata": {},
   "source": [
    "Define a function named `is_vowel`. It should return `True` if the passed string is a vowel, `False` otherwise."
   ]
  },
  {
   "cell_type": "code",
   "execution_count": 19,
   "metadata": {},
   "outputs": [],
   "source": [
    "def is_vowel(letter):\n",
    "    return letter == 'a' or letter == 'e' or letter == 'i' or letter == 'o' or letter == 'u'"
   ]
  },
  {
   "cell_type": "code",
   "execution_count": 47,
   "metadata": {},
   "outputs": [],
   "source": [
    "def is_vowel(letter):\n",
    "    print('------')\n",
    "    print('[is_vowel] starting! Checking letter: ' + letter)\n",
    "    vowels = 'aeiou'\n",
    "    \n",
    "    # check if the letter is any of the vowels\n",
    "    for vowel in vowels:\n",
    "        print('[is_vowel] checking vowel: ' + vowel)\n",
    "        if letter.lower() == vowel:\n",
    "            print('[is_vowel] letter, ' + letter + ' is a vowel: ' + vowel)\n",
    "            return True\n",
    "    print('[is_vowel] finished the for loop, our letter is not a vowel')\n",
    "    \n",
    "    # the letter is not in our vowel list\n",
    "    return False"
   ]
  },
  {
   "cell_type": "code",
   "execution_count": 57,
   "metadata": {},
   "outputs": [],
   "source": [
    "def is_vowel(letter):\n",
    "    return len(letter) == 1 and letter.lower() in 'aeiou'"
   ]
  },
  {
   "cell_type": "code",
   "execution_count": 50,
   "metadata": {},
   "outputs": [
    {
     "name": "stdout",
     "output_type": "stream",
     "text": [
      "------\n",
      "[is_vowel] starting! Checking letter: c\n",
      "[is_vowel] checking vowel: a\n",
      "[is_vowel] checking vowel: e\n",
      "[is_vowel] checking vowel: i\n",
      "[is_vowel] checking vowel: o\n",
      "[is_vowel] checking vowel: u\n",
      "[is_vowel] finished the for loop, our letter is not a vowel\n",
      "------\n",
      "[is_vowel] starting! Checking letter: z\n",
      "[is_vowel] checking vowel: a\n",
      "[is_vowel] checking vowel: e\n",
      "[is_vowel] checking vowel: i\n",
      "[is_vowel] checking vowel: o\n",
      "[is_vowel] checking vowel: u\n",
      "[is_vowel] finished the for loop, our letter is not a vowel\n",
      "------\n",
      "[is_vowel] starting! Checking letter: a\n",
      "[is_vowel] checking vowel: a\n",
      "[is_vowel] letter, a is a vowel: a\n",
      "------\n",
      "[is_vowel] starting! Checking letter: e\n",
      "[is_vowel] checking vowel: a\n",
      "[is_vowel] checking vowel: e\n",
      "[is_vowel] letter, e is a vowel: e\n",
      "------\n",
      "[is_vowel] starting! Checking letter: i\n",
      "[is_vowel] checking vowel: a\n",
      "[is_vowel] checking vowel: e\n",
      "[is_vowel] checking vowel: i\n",
      "[is_vowel] letter, i is a vowel: i\n",
      "------\n",
      "[is_vowel] starting! Checking letter: o\n",
      "[is_vowel] checking vowel: a\n",
      "[is_vowel] checking vowel: e\n",
      "[is_vowel] checking vowel: i\n",
      "[is_vowel] checking vowel: o\n",
      "[is_vowel] letter, o is a vowel: o\n",
      "------\n",
      "[is_vowel] starting! Checking letter: u\n",
      "[is_vowel] checking vowel: a\n",
      "[is_vowel] checking vowel: e\n",
      "[is_vowel] checking vowel: i\n",
      "[is_vowel] checking vowel: o\n",
      "[is_vowel] checking vowel: u\n",
      "[is_vowel] letter, u is a vowel: u\n",
      "------\n",
      "[is_vowel] starting! Checking letter: A\n",
      "[is_vowel] checking vowel: a\n",
      "[is_vowel] letter, A is a vowel: a\n",
      "------\n",
      "[is_vowel] starting! Checking letter: ae\n",
      "[is_vowel] checking vowel: a\n",
      "[is_vowel] checking vowel: e\n",
      "[is_vowel] checking vowel: i\n",
      "[is_vowel] checking vowel: o\n",
      "[is_vowel] checking vowel: u\n",
      "[is_vowel] finished the for loop, our letter is not a vowel\n",
      "------\n",
      "[is_vowel] starting! Checking letter: ou\n",
      "[is_vowel] checking vowel: a\n",
      "[is_vowel] checking vowel: e\n",
      "[is_vowel] checking vowel: i\n",
      "[is_vowel] checking vowel: o\n",
      "[is_vowel] checking vowel: u\n",
      "[is_vowel] finished the for loop, our letter is not a vowel\n",
      "------\n",
      "[is_vowel] starting! Checking letter: \n",
      "[is_vowel] checking vowel: a\n",
      "[is_vowel] checking vowel: e\n",
      "[is_vowel] checking vowel: i\n",
      "[is_vowel] checking vowel: o\n",
      "[is_vowel] checking vowel: u\n",
      "[is_vowel] finished the for loop, our letter is not a vowel\n"
     ]
    }
   ],
   "source": [
    "assert is_vowel('c') == False\n",
    "assert is_vowel('z') == False\n",
    "assert is_vowel('a') == True\n",
    "assert is_vowel('e') == True\n",
    "assert is_vowel('i') == True\n",
    "assert is_vowel('o') == True\n",
    "assert is_vowel('u') == True\n",
    "assert is_vowel('A') == True\n",
    "assert is_vowel('ae') == False\n",
    "assert is_vowel('ou') == False\n",
    "assert is_vowel('') == False"
   ]
  },
  {
   "cell_type": "markdown",
   "metadata": {},
   "source": [
    "Define a function named `is_consonant`. It should return `True` if the passed string is a consonant, `False` otherwise. Use your `is_vowel` function to accomplish this."
   ]
  },
  {
   "cell_type": "code",
   "execution_count": 64,
   "metadata": {},
   "outputs": [],
   "source": [
    "def is_consonant(letter):\n",
    "    letters = 'abcdefghijklmnopqrstuvwxyz'\n",
    "    return len(letter) == 1 and letter.isalpha() and not is_vowel(letter)"
   ]
  },
  {
   "cell_type": "code",
   "execution_count": 65,
   "metadata": {},
   "outputs": [],
   "source": [
    "assert is_consonant('a') == False\n",
    "assert is_consonant('b') == True\n",
    "assert is_consonant('c') == True\n",
    "assert is_consonant('e') == False\n",
    "assert is_consonant('ab') == False"
   ]
  },
  {
   "cell_type": "markdown",
   "metadata": {},
   "source": [
    "Define a function that accepts a string that is a word. The function should capitalize the first letter of the word if the word starts with a consonant."
   ]
  },
  {
   "cell_type": "code",
   "execution_count": 67,
   "metadata": {},
   "outputs": [],
   "source": [
    "def capitalize_if_consonant(word):\n",
    "    first_letter = word[0]\n",
    "    if is_consonant(first_letter):\n",
    "        return word.capitalize()\n",
    "    else:\n",
    "        return word"
   ]
  },
  {
   "cell_type": "code",
   "execution_count": 68,
   "metadata": {},
   "outputs": [],
   "source": [
    "assert capitalize_if_consonant('codeup') == 'Codeup'\n",
    "assert capitalize_if_consonant('curie') == 'Curie'\n",
    "assert capitalize_if_consonant('aardvark') == 'aardvark'"
   ]
  },
  {
   "cell_type": "markdown",
   "metadata": {},
   "source": [
    "Define a function named `calculate_tip`. It should accept a tip percentage (a number between 0 and 1) and the bill total, and return the amount to tip."
   ]
  },
  {
   "cell_type": "code",
   "execution_count": 72,
   "metadata": {},
   "outputs": [],
   "source": [
    "def calculate_tip(tip_percentage, bill):\n",
    "    amount_to_tip = bill * tip_percentage\n",
    "    return amount_to_tip"
   ]
  },
  {
   "cell_type": "code",
   "execution_count": 73,
   "metadata": {},
   "outputs": [],
   "source": [
    "assert calculate_tip(.20, 20) == 4.0\n",
    "assert calculate_tip(.15, 20) == 3.0\n",
    "assert calculate_tip(.10, 20) == 2.0"
   ]
  },
  {
   "cell_type": "markdown",
   "metadata": {},
   "source": [
    "Define a function named `apply_discount`. It should accept a original price, and a discount percentage, and return the price after the discount is applied."
   ]
  },
  {
   "cell_type": "code",
   "execution_count": 76,
   "metadata": {},
   "outputs": [],
   "source": [
    "def apply_discount(original_price, discount):\n",
    "    discount_amount = original_price * discount\n",
    "    return original_price - discount_amount"
   ]
  },
  {
   "cell_type": "code",
   "execution_count": 77,
   "metadata": {},
   "outputs": [],
   "source": [
    "assert apply_discount(10, .10) == 9.0\n",
    "assert apply_discount(10, .20) == 8.0\n",
    "assert apply_discount(10, 1) == 0\n",
    "assert apply_discount(10, 0) == 10"
   ]
  },
  {
   "cell_type": "markdown",
   "metadata": {},
   "source": [
    "Define a function named `handle_commas`. It should accept a string that is a number that contains commas in it as input, and return a number as output."
   ]
  },
  {
   "cell_type": "code",
   "execution_count": 80,
   "metadata": {},
   "outputs": [],
   "source": [
    "def handle_commas(numeric_string):\n",
    "    string_without_commas = numeric_string.replace(',', '')\n",
    "    actual_number = int(string_without_commas)\n",
    "    return actual_number"
   ]
  },
  {
   "cell_type": "code",
   "execution_count": 81,
   "metadata": {},
   "outputs": [],
   "source": [
    "assert handle_commas('1,234') == 1234\n",
    "assert handle_commas('1,234,567') == 1234567\n",
    "assert handle_commas('123') == 123"
   ]
  },
  {
   "cell_type": "markdown",
   "metadata": {},
   "source": [
    "Define a function named `get_letter_grade`. It should accept a number and return the letter grade associated with that number (A-F)."
   ]
  },
  {
   "cell_type": "code",
   "execution_count": 84,
   "metadata": {},
   "outputs": [],
   "source": [
    "def get_letter_grade(numeric_grade):\n",
    "    if numeric_grade >= 90:\n",
    "        return 'A'\n",
    "    elif numeric_grade >= 80:\n",
    "        return 'B'\n",
    "    elif numeric_grade >= 70:\n",
    "        return 'C'\n",
    "    else:\n",
    "        return 'F'"
   ]
  },
  {
   "cell_type": "code",
   "execution_count": 85,
   "metadata": {},
   "outputs": [],
   "source": [
    "assert get_letter_grade(90) == 'A'\n",
    "assert get_letter_grade(99) == 'A'\n",
    "assert get_letter_grade(80) == 'B'\n",
    "assert get_letter_grade(85) == 'B'\n",
    "assert get_letter_grade(70) == 'C'\n",
    "assert get_letter_grade(60) == 'F'"
   ]
  },
  {
   "cell_type": "markdown",
   "metadata": {},
   "source": [
    "Define a function named `remove_vowels` that accepts a string and returns a string with all the vowels removed."
   ]
  },
  {
   "cell_type": "code",
   "execution_count": 87,
   "metadata": {},
   "outputs": [],
   "source": [
    "def remove_vowels(string):\n",
    "    string_without_vowels = ''\n",
    "    \n",
    "    for c in string:\n",
    "        if not is_vowel(c):\n",
    "            string_without_vowels += c\n",
    "            \n",
    "    return string_without_vowels"
   ]
  },
  {
   "cell_type": "code",
   "execution_count": 92,
   "metadata": {},
   "outputs": [],
   "source": [
    "def remove_vowels(string):\n",
    "    return ''.join([c for c in string if not is_vowel(c)])"
   ]
  },
  {
   "cell_type": "code",
   "execution_count": 93,
   "metadata": {},
   "outputs": [],
   "source": [
    "assert remove_vowels('a') == ''\n",
    "assert remove_vowels('codeup') == 'cdp'\n",
    "assert remove_vowels('Curie') == 'Cr'\n",
    "assert remove_vowels('aaa') == ''\n",
    "assert remove_vowels('bbb') == 'bbb'"
   ]
  },
  {
   "cell_type": "markdown",
   "metadata": {},
   "source": [
    "Define a function named `normalize_name`. It should accept a string and return a valid python identifier, that is:\n",
    "\n",
    "- anything that is not a valid python identifier should be removed\n",
    "- leading and trailing whitespace should be removed\n",
    "- everything should be lowercase\n",
    "- spaces should be replaced with underscores\n",
    "- for example:\n",
    "    - `Name` will become `name`\n",
    "    - `First Name  ` will become `first_name`\n",
    "    - `% Completed` will become `completed`"
   ]
  },
  {
   "cell_type": "code",
   "execution_count": 115,
   "metadata": {},
   "outputs": [],
   "source": [
    "def remove_special_characters(string):\n",
    "    return ''.join([c for c in string if c.isalnum() or c == ' '])"
   ]
  },
  {
   "cell_type": "code",
   "execution_count": 116,
   "metadata": {},
   "outputs": [
    {
     "data": {
      "text/plain": [
       "'ab'"
      ]
     },
     "execution_count": 116,
     "metadata": {},
     "output_type": "execute_result"
    }
   ],
   "source": [
    "remove_special_characters('a!@#$#$%^$%^&b')"
   ]
  },
  {
   "cell_type": "code",
   "execution_count": 117,
   "metadata": {},
   "outputs": [],
   "source": [
    "assert remove_special_characters('%%%') == ''\n",
    "assert remove_special_characters('a!@#$#$%^$%^&b') == 'ab'\n",
    "assert remove_special_characters('a b') == 'a b'"
   ]
  },
  {
   "cell_type": "code",
   "execution_count": 120,
   "metadata": {},
   "outputs": [],
   "source": [
    "def normalize_name(string):\n",
    "    without_special_chars = remove_special_characters(string)\n",
    "    return without_special_chars.lower().strip().replace(' ', '_')"
   ]
  },
  {
   "cell_type": "code",
   "execution_count": 121,
   "metadata": {},
   "outputs": [],
   "source": [
    "assert normalize_name('Name') == 'name'\n",
    "assert normalize_name('First Name') == 'first_name'\n",
    "assert normalize_name('% Completed') == 'completed'"
   ]
  },
  {
   "cell_type": "markdown",
   "metadata": {},
   "source": [
    "Write a function named `cumsum` that accepts a list of numbers and returns a list that is the cumulative sum of the numbers in the list.\n",
    "\n",
    "- `cumsum([1, 1, 1])` returns `[1, 2, 3]`\n",
    "- `cumsum([1, 2, 3, 4])` returns `[1, 3, 6, 10]`"
   ]
  },
  {
   "cell_type": "code",
   "execution_count": 127,
   "metadata": {},
   "outputs": [],
   "source": [
    "def cumsum(numbers):\n",
    "    total = 0\n",
    "    cumulative_sums = []\n",
    "    for n in numbers:\n",
    "        total += n\n",
    "        cumulative_sums.append(total)\n",
    "    return cumulative_sums"
   ]
  },
  {
   "cell_type": "code",
   "execution_count": 128,
   "metadata": {},
   "outputs": [
    {
     "data": {
      "text/plain": [
       "[1, 3, 6]"
      ]
     },
     "execution_count": 128,
     "metadata": {},
     "output_type": "execute_result"
    }
   ],
   "source": [
    "cumsum([1, 2, 3])"
   ]
  },
  {
   "cell_type": "code",
   "execution_count": 129,
   "metadata": {},
   "outputs": [],
   "source": [
    "assert cumsum([1, 1, 1]) == [1, 2, 3]\n",
    "assert cumsum([1, 2, 3, 4]) == [1, 3, 6, 10]"
   ]
  }
 ],
 "metadata": {
  "kernelspec": {
   "display_name": "Python 3",
   "language": "python",
   "name": "python3"
  },
  "language_info": {
   "codemirror_mode": {
    "name": "ipython",
    "version": 3
   },
   "file_extension": ".py",
   "mimetype": "text/x-python",
   "name": "python",
   "nbconvert_exporter": "python",
   "pygments_lexer": "ipython3",
   "version": "3.7.3"
  }
 },
 "nbformat": 4,
 "nbformat_minor": 2
}
