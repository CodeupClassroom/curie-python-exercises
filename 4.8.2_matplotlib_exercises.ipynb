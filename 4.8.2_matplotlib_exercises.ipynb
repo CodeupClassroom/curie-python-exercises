{
 "cells": [
  {
   "cell_type": "code",
   "execution_count": null,
   "metadata": {},
   "outputs": [],
   "source": [
    "import matplotlib.pyplot as plt\n",
    "import math\n",
    "%matplotlib inline"
   ]
  },
  {
   "cell_type": "markdown",
   "metadata": {},
   "source": [
    "## Exercise 1\n",
    "- Plot $y=x^2 -x + 2x$\n",
    "- Write code that generates the x and y points\n",
    "- Annotate the origin at `(0, 0)`"
   ]
  },
  {
   "cell_type": "code",
   "execution_count": null,
   "metadata": {},
   "outputs": [],
   "source": [
    "# y = x^2 -x + 2x\n",
    "x = range(1, 25)\n",
    "y = [n**2 - n + 2 for n in x]\n",
    "\n",
    "plt.title(\"$y=x^2 -x + 2x$\")\n",
    "plt.xlabel(\"x\")\n",
    "plt.ylabel(\"y\", rotation=0)\n",
    "\n",
    "plt.annotate(\"Origin\", xy=(0,0), xytext=(0, 125), arrowprops={'facecolor': 'blue'})\n",
    "plt.plot(y)\n",
    "plt.show()"
   ]
  },
  {
   "cell_type": "markdown",
   "metadata": {},
   "source": [
    "## Exercise 2\n",
    "\n",
    "- $y=\\sqrt{x}$\n",
    "- $y=x^3$\n",
    "- $y=\\tan({x})$\n",
    "- $y=2^x$"
   ]
  },
  {
   "cell_type": "code",
   "execution_count": null,
   "metadata": {},
   "outputs": [],
   "source": [
    "# y = sqrt(x)\n",
    "\n",
    "x = range(1, 100)\n",
    "y = [math.sqrt(n) for n in x]\n",
    "\n",
    "plt.title(\"$y = \\sqrt{x}$\", fontsize=18)\n",
    "\n",
    "# set the fontsize\n",
    "plt.xlabel(\"x\", fontsize=14)\n",
    "\n",
    "# y lable with rotation set to 0 degrees\n",
    "plt.ylabel(\"$\\sqrt{x}$\", rotation=0, fontsize=14)\n",
    "\n",
    "plt.plot(y)\n",
    "plt.show()"
   ]
  },
  {
   "cell_type": "code",
   "execution_count": null,
   "metadata": {},
   "outputs": [],
   "source": [
    "# y = x^3\n",
    "x = list(range(1, 100))\n",
    "y = [n**3 for n in x]\n",
    "\n",
    "plt.title(\"$y = x^3$\", fontsize=14)\n",
    "\n",
    "plt.xlabel(\"x\", fontsize=14)\n",
    "plt.ylabel(\"$x^3$\", rotation=0, fontsize=14)\n",
    "\n",
    "plt.plot(y)\n",
    "plt.show()"
   ]
  },
  {
   "cell_type": "code",
   "execution_count": null,
   "metadata": {},
   "outputs": [],
   "source": [
    "# Quick plot of y = tan(x)\n",
    "# This is not terribly accurate...\n",
    "x = range(1, 10)\n",
    "y = [math.tan(n) for n in x]\n",
    "\n",
    "plt.title(\"Quick version of $y=tan(x)$\")\n",
    "plt.xlabel(\"x\")\n",
    "plt.ylabel(\"$tan(x)$\")\n",
    "plt.plot(x, y)\n",
    "plt.show()"
   ]
  },
  {
   "cell_type": "markdown",
   "metadata": {},
   "source": [
    "## Plotting $y=\\tan(x)$ in Matplotlib\n",
    "\n",
    "This approach:\n",
    "- Plots many points between $-2\\pi$ and $2\\pi$ to increase the resolution of the data\n",
    "- Handles asymtotes and removes the connecting line between $lim_{x\\to-\\infty}$ and $lim_{x\\to\\infty}$\n",
    "- Plots the x axis ticks with radian measurements \n",
    "- Makes me yearn for a TI-86 calculator\n",
    "- Was *excellent* practice with matplotlib"
   ]
  },
  {
   "cell_type": "code",
   "execution_count": null,
   "metadata": {},
   "outputs": [],
   "source": [
    "# import numpy to create a range with more specificity than incrementing by 1\n",
    "import numpy as np \n",
    "\n",
    "# .linspace arguments are (start, end, number_of_steps)\n",
    "x = np.linspace(-2 * math.pi, 2 * math.pi, 1000)\n",
    "y = np.tan(x)\n",
    "\n",
    "# This operation inserts a NaN where the difference between successive points is negative\n",
    "# NaN means \"Not a Number\" and NaNs are not plotted or connected\n",
    "# I found this by doing a search for \"How to plot tan(x) in matplotlib without the connecting lines between asymtotes\"\n",
    "y[:-1][np.diff(y) < 0] = np.nan\n",
    "\n",
    "# show grid\n",
    "plt.grid()\n",
    "\n",
    "plt.xlabel(\"x\")\n",
    "plt.ylabel(\"$tan(x)$\")\n",
    "\n",
    "# Set the x and y axis cutoffs\n",
    "plt.ylim(-10,10)\n",
    "plt.xlim(-2 * math.pi, 2 * math.pi)\n",
    "\n",
    "# x_labels in radians\n",
    "# For a more programmatic approach to radians, see https://matplotlib.org/3.1.1/gallery/units/radian_demo.html\n",
    "radian_multiples = [-2, -3/2, -1, -1/2, 0, 1/2, 1, 3/2, 2]\n",
    "radians = [n * math.pi for n in radian_multiples]\n",
    "radian_labels = ['$-2\\pi$', '$-3\\pi/2$', '$\\pi$', '$-\\pi/2$', '0', '$\\pi/2$', '$\\pi$', '$3\\pi/2$', '$2\\pi$']\n",
    "\n",
    "plt.xticks(radians, radian_labels)\n",
    "\n",
    "plt.title(\"$y = tan(x)$\", fontsize=14)\n",
    "plt.plot(x, y)\n",
    "plt.show()"
   ]
  },
  {
   "cell_type": "markdown",
   "metadata": {},
   "source": [
    "## Plot $y=2^x$"
   ]
  },
  {
   "cell_type": "code",
   "execution_count": null,
   "metadata": {
    "scrolled": true
   },
   "outputs": [],
   "source": [
    "x = range(1, 40)\n",
    "y = [2**n for n in x]\n",
    "\n",
    "plt.title(\"$y=2^x$\")\n",
    "plt.xlabel(\"x\")\n",
    "plt.ylabel(\"$y=2^x$\")\n",
    "\n",
    "# plt.yscale(\"log\")\n",
    "plt.plot(y)\n",
    "plt.show()"
   ]
  },
  {
   "cell_type": "markdown",
   "metadata": {},
   "source": [
    "## Exercise 3\n",
    "\n",
    "Combine the last 4 figures into one large figure with 4 subplots.\n"
   ]
  },
  {
   "cell_type": "code",
   "execution_count": null,
   "metadata": {},
   "outputs": [],
   "source": [
    "plt.figure(figsize=(16, 6))\n",
    "plt.suptitle('Subplots of the above 4 exercises', fontsize=16)\n",
    "plt.subplots_adjust(hspace=0.5)\n",
    "\n",
    "# First subplot\n",
    "# y = x^2 - x + 2x\n",
    "plt.subplot(2, 2, 1)\n",
    "\n",
    "x = range(1, 50)\n",
    "y = [n**2 - n + 2 for n in x]\n",
    "\n",
    "plt.title(\"$y=x^2 -x + 2x$\")\n",
    "plt.xlabel(\"x\")\n",
    "plt.ylabel(\"y\", rotation=0)\n",
    "\n",
    "plt.annotate(\"Origin\", xy=(0,0), xytext=(0, 400), arrowprops={'facecolor': 'blue'})\n",
    "plt.plot(y)\n",
    "\n",
    "# Second subplot\n",
    "# y = sqrt(x)\n",
    "plt.subplot(2, 2, 2)\n",
    "y = [math.sqrt(n) for n in x]\n",
    "plt.title(\"$y = \\sqrt{x}$\")\n",
    "plt.ylabel(\"$\\sqrt{x}$\", rotation=0)\n",
    "plt.plot(y)\n",
    "\n",
    "\n",
    "# third plot\n",
    "# y = tan(x)\n",
    "plt.subplot(2, 2, 3)\n",
    "x = np.linspace(-2*np.pi, 2*np.pi, 500)\n",
    "y = np.tan(x)\n",
    "\n",
    "# Set NaN for when we go from -inf to +inf asymtotes\n",
    "y[:-1][np.diff(y) < 0] = np.nan\n",
    "\n",
    "plt.grid()\n",
    "plt.ylim(-10, 10)\n",
    "plt.xlim(-2 * math.pi, 2 * math.pi)\n",
    "\n",
    "plt.title(\"$y=tan(x)$\")\n",
    "plt.xlabel(\"x\")\n",
    "plt.ylabel(\"y\", rotation=0)\n",
    "plt.plot(x, y)\n",
    "\n",
    "plt.subplot(2, 2, 4)\n",
    "x = range(1, 15)\n",
    "y = [2**n for n in x]\n",
    "plt.title(\"$y=2^x$\")\n",
    "plt.xlabel(\"x\")\n",
    "plt.ylabel(\"$y=2^x$\")\n",
    "plt.plot(y)\n",
    "\n",
    "plt.show()"
   ]
  },
  {
   "cell_type": "markdown",
   "metadata": {},
   "source": []
  },
  {
   "cell_type": "code",
   "execution_count": null,
   "metadata": {},
   "outputs": [],
   "source": []
  },
  {
   "cell_type": "code",
   "execution_count": null,
   "metadata": {},
   "outputs": [],
   "source": []
  }
 ],
 "metadata": {
  "kernelspec": {
   "display_name": "Python 3",
   "language": "python",
   "name": "python3"
  },
  "language_info": {
   "codemirror_mode": {
    "name": "ipython",
    "version": 3
   },
   "file_extension": ".py",
   "mimetype": "text/x-python",
   "name": "python",
   "nbconvert_exporter": "python",
   "pygments_lexer": "ipython3",
   "version": "3.7.3"
  }
 },
 "nbformat": 4,
 "nbformat_minor": 4
}
