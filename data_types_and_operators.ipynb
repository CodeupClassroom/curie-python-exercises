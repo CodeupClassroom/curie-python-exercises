{
 "cells": [
  {
   "cell_type": "code",
   "execution_count": 2,
   "metadata": {},
   "outputs": [
    {
     "name": "stdout",
     "output_type": "stream",
     "text": [
      "We spent 27 on all 3 movies\n"
     ]
    }
   ],
   "source": [
    "# You have rented some movies for your kids: \n",
    "\n",
    "# The little mermaid (for 3 days), \n",
    "# Brother Bear (for 5 days, they love it)\n",
    "# Hercules (1 day, you don't know yet if they're going to like it). \n",
    "little_mermaid_days = 3\n",
    "brother_bear_days = 5\n",
    "hercules_days = 1\n",
    "\n",
    "total_days = hercules_days + little_mermaid_days + brother_bear_days\n",
    "\n",
    "cost_per_movie = 3\n",
    "total_cost = total_days * cost_per_movie\n",
    "\n",
    "# If price for a movie per day is 3 dollars, how much will you have to pay?\n",
    "print(f\"We spent {total_cost} on all 3 movies\")"
   ]
  },
  {
   "cell_type": "code",
   "execution_count": 4,
   "metadata": {},
   "outputs": [
    {
     "name": "stdout",
     "output_type": "stream",
     "text": [
      "We earned 7420 for contracting for these companies\n"
     ]
    }
   ],
   "source": [
    "# Suppose you're working as a contractor for 3 companies: \n",
    "# Google pays 400 dollars per hour, Amazon 380, and Facebook 350. \n",
    "google_rate = 400\n",
    "amazon_rate = 380\n",
    "facebook_rate = 350\n",
    "\n",
    "\n",
    "# You worked 10 hours for Facebook, 6 hours for Google and 4 hours for Amazon.\n",
    "total = 10 * facebook_rate + 6 * google_rate + 4 * amazon_rate\n",
    "print(f\"We earned {total} for contracting for these companies\")"
   ]
  },
  {
   "cell_type": "code",
   "execution_count": null,
   "metadata": {},
   "outputs": [],
   "source": [
    "# A student can be enrolled to a class only \n",
    "# if the class is not full and\n",
    "# the class schedule does not conflict with her current schedule.\n",
    "class_has_room = True\n",
    "schedule_works = False\n",
    "student_can_be_enrolled = class_has_room and schedule_works"
   ]
  },
  {
   "cell_type": "code",
   "execution_count": 5,
   "metadata": {},
   "outputs": [
    {
     "data": {
      "text/plain": [
       "True"
      ]
     },
     "execution_count": 5,
     "metadata": {},
     "output_type": "execute_result"
    }
   ],
   "source": [
    "# A product offer can be applied only \n",
    "# if people buys more than 2 items, \n",
    "# and the offer has not expired. \n",
    "#Premium members do not need to buy a specific amount of products.\n",
    "purchased_more_than_two_items = False\n",
    "offer_valid = True\n",
    "premium_member = True\n",
    "\n",
    "offer_can_be_applied = (purchased_more_than_two_items or premium_member) and offer_valid\n",
    "offer_can_be_applied = offer_valid and (purchased_more_than_two_items or premium_member)\n",
    "offer_can_be_applied"
   ]
  },
  {
   "cell_type": "code",
   "execution_count": null,
   "metadata": {},
   "outputs": [],
   "source": []
  }
 ],
 "metadata": {
  "kernelspec": {
   "display_name": "Python 3",
   "language": "python",
   "name": "python3"
  },
  "language_info": {
   "codemirror_mode": {
    "name": "ipython",
    "version": 3
   },
   "file_extension": ".py",
   "mimetype": "text/x-python",
   "name": "python",
   "nbconvert_exporter": "python",
   "pygments_lexer": "ipython3",
   "version": "3.7.3"
  }
 },
 "nbformat": 4,
 "nbformat_minor": 4
}
